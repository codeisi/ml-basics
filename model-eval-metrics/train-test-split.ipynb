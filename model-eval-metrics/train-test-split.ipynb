{
 "cells": [
  {
   "cell_type": "code",
   "execution_count": 7,
   "metadata": {},
   "outputs": [
    {
     "name": "stdout",
     "output_type": "stream",
     "text": [
      "scikit-learn==0.21.2\n"
     ]
    },
    {
     "name": "stderr",
     "output_type": "stream",
     "text": [
      "WARNING: Could not parse requirement: -qdm\n",
      "WARNING: Could not parse requirement: -\n"
     ]
    }
   ],
   "source": [
    "!pip freeze | grep scikit-learn"
   ]
  },
  {
   "cell_type": "code",
   "execution_count": 44,
   "metadata": {},
   "outputs": [
    {
     "name": "stdout",
     "output_type": "stream",
     "text": [
      "len(X) 96\n",
      "len(y) 96\n",
      "len(X_train) 38\n",
      "len(y_train) 38\n",
      "Accuracy with depth 13, :  0.78\n",
      "0: Accuracy with train_size 0.4, random_state 10, depth 10, : 0.67241\n",
      "1: Accuracy with train_size 0.4, random_state 10, depth 11, : 0.67241\n",
      "2: Accuracy with train_size 0.4, random_state 10, depth 12, : 0.67241\n",
      "3: Accuracy with train_size 0.4, random_state 10, depth 13, : 0.67241\n"
     ]
    }
   ],
   "source": [
    "# Import statements \n",
    "from sklearn.tree import DecisionTreeClassifier\n",
    "from sklearn.metrics import accuracy_score\n",
    "import pandas as pd\n",
    "import numpy as np\n",
    "\n",
    "# Import the train test split\n",
    "# http://scikit-learn.org/0.16/modules/generated/sklearn.cross_validation.train_test_split.html\n",
    "from sklearn.model_selection import train_test_split\n",
    "\n",
    "# Read in the data.\n",
    "data = np.asarray(pd.read_csv('data.csv', header=None))\n",
    "# Assign the features to the variable X, and the labels to the variable y. \n",
    "X = data[:,0:2]\n",
    "y = data[:,2]\n",
    "\n",
    "\n",
    "print('len(X)', len(X))\n",
    "print('len(y)', len(y))\n",
    "# Use train test split to split your data \n",
    "# Use a test size of 25% and a random state of 42\n",
    "ts = 0.4\n",
    "rs = 10\n",
    "X_train, X_test, y_train, y_test = train_test_split(X, y, train_size = ts, random_state = rs)\n",
    "\n",
    "print('len(X_train)', len(X_train))\n",
    "print('len(y_train)', len(y_train))\n",
    "\n",
    "model = DecisionTreeClassifier()\n",
    "model.fit(X_train, y_train)\n",
    "y_pred = model.predict(X_test)\n",
    "acc = accuracy_score(y_test, y_pred)\n",
    "print('Accuracy with depth {0:}, : {1:5.2f}'.format(depth, acc))\n",
    "    \n",
    "for d in range(4):\n",
    "    depth = d + 10\n",
    "    # Instantiate your decision tree model\n",
    "    model = DecisionTreeClassifier(max_depth = depth, min_samples_leaf = 5)\n",
    "    model.fit(X_train, y_train)\n",
    "    y_pred = model.predict(X_test)\n",
    "    acc = accuracy_score(y_test, y_pred)\n",
    "    print('{0:}: Accuracy with train_size {1:}, random_state {2:}, depth {3:}, : {4:5.5f}'.format(d, ts, rs, depth, acc))"
   ]
  },
  {
   "cell_type": "code",
   "execution_count": null,
   "metadata": {},
   "outputs": [],
   "source": [
    "Best Accuracy with train_size 0.4, random_state 25, depth 10-13, :  0.83\n",
    "Accuracy with train_size 0.4, random_state 100, depth 10, : 0.79310"
   ]
  },
  {
   "cell_type": "markdown",
   "metadata": {},
   "source": [
    "train_size: 25  \n",
    "Random State: 25\n",
    "Accuracy with depth 3, :  0.60\n",
    "Accuracy with depth 4, :  0.68\n",
    "Accuracy with depth 5, :  0.64\n",
    "Accuracy with depth 6, :  0.64\n",
    "Accuracy with depth 7, :  0.64\n",
    "Accuracy with depth 8, :  0.64\n",
    "Accuracy with depth 9, :  0.62\n",
    "Accuracy with depth 10, :  0.62\n",
    "Accuracy with depth 11, :  0.64\n",
    "Accuracy with depth 12, :  0.62   "
   ]
  },
  {
   "cell_type": "code",
   "execution_count": null,
   "metadata": {},
   "outputs": [],
   "source": [
    "train_size: 25  \n",
    "Random State: 42\n",
    "Accuracy with depth 3, :  0.65\n",
    "Accuracy with depth 4, :  0.68\n",
    "Accuracy with depth 5, :  0.74\n",
    "Accuracy with depth 6, :  0.74\n",
    "Accuracy with depth 7, :  0.74\n",
    "Accuracy with depth 8, :  0.74\n",
    "Accuracy with depth 9, :  0.74\n",
    "Accuracy with depth 10, :  0.74\n",
    "Accuracy with depth 11, :  0.74\n",
    "Accuracy with depth 12, :  0.74"
   ]
  },
  {
   "cell_type": "code",
   "execution_count": null,
   "metadata": {},
   "outputs": [],
   "source": [
    "train_size: 30  \n",
    "Random State: 25\n",
    "Accuracy with depth 3, :  0.63\n",
    "Accuracy with depth 4, :  0.79\n",
    "Accuracy with depth 5, :  0.79\n",
    "Accuracy with depth 6, :  0.79\n",
    "Accuracy with depth 7, :  0.79\n",
    "Accuracy with depth 8, :  0.81\n",
    "Accuracy with depth 9, :  0.79\n",
    "Accuracy with depth 10, :  0.79\n",
    "Accuracy with depth 11, :  0.81\n",
    "Accuracy with depth 12, :  0.81"
   ]
  }
 ],
 "metadata": {
  "kernelspec": {
   "display_name": "Python 3",
   "language": "python",
   "name": "python3"
  },
  "language_info": {
   "codemirror_mode": {
    "name": "ipython",
    "version": 3
   },
   "file_extension": ".py",
   "mimetype": "text/x-python",
   "name": "python",
   "nbconvert_exporter": "python",
   "pygments_lexer": "ipython3",
   "version": "3.7.3"
  }
 },
 "nbformat": 4,
 "nbformat_minor": 2
}

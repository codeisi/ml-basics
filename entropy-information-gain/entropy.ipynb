{
 "cells": [
  {
   "cell_type": "markdown",
   "metadata": {},
   "source": [
    "# Udacity Intro to ML\n",
    "## Lesson 4.16 Decision Trees: Calculating Information Gain"
   ]
  },
  {
   "cell_type": "code",
   "execution_count": 28,
   "metadata": {},
   "outputs": [
    {
     "name": "stdout",
     "output_type": "stream",
     "text": [
      "  Species Color  Length (mm)\n",
      "0   Mobug  Blue         13.1\n",
      "1   Lobug  Blue         14.5\n",
      "2   Mobug  Blue         14.6\n",
      "3   Lobug  Blue         15.1\n",
      "4   Mobug  Blue         16.3\n"
     ]
    },
    {
     "data": {
      "text/plain": [
       "Lobug    14\n",
       "Mobug    10\n",
       "Name: Species, dtype: int64"
      ]
     },
     "execution_count": 28,
     "metadata": {},
     "output_type": "execute_result"
    }
   ],
   "source": [
    "import pandas as pd\n",
    "import numpy as np\n",
    "\n",
    "dataset = pd.read_csv('ml-bugs.csv')\n",
    "dataset.columns\n",
    "print(dataset.head())\n",
    "dataset['Species'].value_counts()"
   ]
  },
  {
   "cell_type": "code",
   "execution_count": 22,
   "metadata": {},
   "outputs": [
    {
     "name": "stdout",
     "output_type": "stream",
     "text": [
      "Lobug    6\n",
      "Mobug    4\n",
      "Name: Species, dtype: int64\n"
     ]
    },
    {
     "data": {
      "text/html": [
       "<div>\n",
       "<style scoped>\n",
       "    .dataframe tbody tr th:only-of-type {\n",
       "        vertical-align: middle;\n",
       "    }\n",
       "\n",
       "    .dataframe tbody tr th {\n",
       "        vertical-align: top;\n",
       "    }\n",
       "\n",
       "    .dataframe thead th {\n",
       "        text-align: right;\n",
       "    }\n",
       "</style>\n",
       "<table border=\"1\" class=\"dataframe\">\n",
       "  <thead>\n",
       "    <tr style=\"text-align: right;\">\n",
       "      <th></th>\n",
       "      <th>Species</th>\n",
       "      <th>Color</th>\n",
       "      <th>Length (mm)</th>\n",
       "    </tr>\n",
       "  </thead>\n",
       "  <tbody>\n",
       "    <tr>\n",
       "      <th>1</th>\n",
       "      <td>Lobug</td>\n",
       "      <td>Blue</td>\n",
       "      <td>14.5</td>\n",
       "    </tr>\n",
       "    <tr>\n",
       "      <th>3</th>\n",
       "      <td>Lobug</td>\n",
       "      <td>Blue</td>\n",
       "      <td>15.1</td>\n",
       "    </tr>\n",
       "    <tr>\n",
       "      <th>5</th>\n",
       "      <td>Lobug</td>\n",
       "      <td>Blue</td>\n",
       "      <td>18.4</td>\n",
       "    </tr>\n",
       "    <tr>\n",
       "      <th>7</th>\n",
       "      <td>Lobug</td>\n",
       "      <td>Blue</td>\n",
       "      <td>20.5</td>\n",
       "    </tr>\n",
       "    <tr>\n",
       "      <th>8</th>\n",
       "      <td>Lobug</td>\n",
       "      <td>Blue</td>\n",
       "      <td>21.0</td>\n",
       "    </tr>\n",
       "    <tr>\n",
       "      <th>9</th>\n",
       "      <td>Lobug</td>\n",
       "      <td>Blue</td>\n",
       "      <td>22.9</td>\n",
       "    </tr>\n",
       "    <tr>\n",
       "      <th>0</th>\n",
       "      <td>Mobug</td>\n",
       "      <td>Blue</td>\n",
       "      <td>13.1</td>\n",
       "    </tr>\n",
       "    <tr>\n",
       "      <th>2</th>\n",
       "      <td>Mobug</td>\n",
       "      <td>Blue</td>\n",
       "      <td>14.6</td>\n",
       "    </tr>\n",
       "    <tr>\n",
       "      <th>4</th>\n",
       "      <td>Mobug</td>\n",
       "      <td>Blue</td>\n",
       "      <td>16.3</td>\n",
       "    </tr>\n",
       "    <tr>\n",
       "      <th>6</th>\n",
       "      <td>Mobug</td>\n",
       "      <td>Blue</td>\n",
       "      <td>19.2</td>\n",
       "    </tr>\n",
       "  </tbody>\n",
       "</table>\n",
       "</div>"
      ],
      "text/plain": [
       "  Species Color  Length (mm)\n",
       "1   Lobug  Blue         14.5\n",
       "3   Lobug  Blue         15.1\n",
       "5   Lobug  Blue         18.4\n",
       "7   Lobug  Blue         20.5\n",
       "8   Lobug  Blue         21.0\n",
       "9   Lobug  Blue         22.9\n",
       "0   Mobug  Blue         13.1\n",
       "2   Mobug  Blue         14.6\n",
       "4   Mobug  Blue         16.3\n",
       "6   Mobug  Blue         19.2"
      ]
     },
     "execution_count": 22,
     "metadata": {},
     "output_type": "execute_result"
    }
   ],
   "source": [
    "filter_blue = dataset['Color'].str.contains('Blue')\n",
    "blue_dataset = dataset[filter_blue]\n",
    "#blue_dataset['Species'].value_counts().to_frame().reset_index().sort_values('Species', ascending=False)\n",
    "print(blue_dataset['Species'].value_counts())\n",
    "dataset[filter_blue].sort_values('Species')"
   ]
  },
  {
   "cell_type": "code",
   "execution_count": 23,
   "metadata": {},
   "outputs": [
    {
     "name": "stdout",
     "output_type": "stream",
     "text": [
      "Lobug    8\n",
      "Mobug    6\n",
      "Name: Species, dtype: int64\n"
     ]
    },
    {
     "data": {
      "text/html": [
       "<div>\n",
       "<style scoped>\n",
       "    .dataframe tbody tr th:only-of-type {\n",
       "        vertical-align: middle;\n",
       "    }\n",
       "\n",
       "    .dataframe tbody tr th {\n",
       "        vertical-align: top;\n",
       "    }\n",
       "\n",
       "    .dataframe thead th {\n",
       "        text-align: right;\n",
       "    }\n",
       "</style>\n",
       "<table border=\"1\" class=\"dataframe\">\n",
       "  <thead>\n",
       "    <tr style=\"text-align: right;\">\n",
       "      <th></th>\n",
       "      <th>Species</th>\n",
       "      <th>Color</th>\n",
       "      <th>Length (mm)</th>\n",
       "    </tr>\n",
       "  </thead>\n",
       "  <tbody>\n",
       "    <tr>\n",
       "      <th>12</th>\n",
       "      <td>Lobug</td>\n",
       "      <td>Brown</td>\n",
       "      <td>14.1</td>\n",
       "    </tr>\n",
       "    <tr>\n",
       "      <th>14</th>\n",
       "      <td>Lobug</td>\n",
       "      <td>Brown</td>\n",
       "      <td>17.1</td>\n",
       "    </tr>\n",
       "    <tr>\n",
       "      <th>16</th>\n",
       "      <td>Lobug</td>\n",
       "      <td>Green</td>\n",
       "      <td>17.9</td>\n",
       "    </tr>\n",
       "    <tr>\n",
       "      <th>17</th>\n",
       "      <td>Lobug</td>\n",
       "      <td>Green</td>\n",
       "      <td>18.6</td>\n",
       "    </tr>\n",
       "    <tr>\n",
       "      <th>18</th>\n",
       "      <td>Lobug</td>\n",
       "      <td>Green</td>\n",
       "      <td>18.8</td>\n",
       "    </tr>\n",
       "    <tr>\n",
       "      <th>21</th>\n",
       "      <td>Lobug</td>\n",
       "      <td>Green</td>\n",
       "      <td>22.7</td>\n",
       "    </tr>\n",
       "    <tr>\n",
       "      <th>22</th>\n",
       "      <td>Lobug</td>\n",
       "      <td>Green</td>\n",
       "      <td>23.7</td>\n",
       "    </tr>\n",
       "    <tr>\n",
       "      <th>23</th>\n",
       "      <td>Lobug</td>\n",
       "      <td>Green</td>\n",
       "      <td>24.8</td>\n",
       "    </tr>\n",
       "    <tr>\n",
       "      <th>10</th>\n",
       "      <td>Mobug</td>\n",
       "      <td>Brown</td>\n",
       "      <td>11.6</td>\n",
       "    </tr>\n",
       "    <tr>\n",
       "      <th>11</th>\n",
       "      <td>Mobug</td>\n",
       "      <td>Brown</td>\n",
       "      <td>13.8</td>\n",
       "    </tr>\n",
       "    <tr>\n",
       "      <th>13</th>\n",
       "      <td>Mobug</td>\n",
       "      <td>Brown</td>\n",
       "      <td>15.7</td>\n",
       "    </tr>\n",
       "    <tr>\n",
       "      <th>15</th>\n",
       "      <td>Mobug</td>\n",
       "      <td>Brown</td>\n",
       "      <td>18.2</td>\n",
       "    </tr>\n",
       "    <tr>\n",
       "      <th>19</th>\n",
       "      <td>Mobug</td>\n",
       "      <td>Green</td>\n",
       "      <td>19.9</td>\n",
       "    </tr>\n",
       "    <tr>\n",
       "      <th>20</th>\n",
       "      <td>Mobug</td>\n",
       "      <td>Green</td>\n",
       "      <td>21.2</td>\n",
       "    </tr>\n",
       "  </tbody>\n",
       "</table>\n",
       "</div>"
      ],
      "text/plain": [
       "   Species  Color  Length (mm)\n",
       "12   Lobug  Brown         14.1\n",
       "14   Lobug  Brown         17.1\n",
       "16   Lobug  Green         17.9\n",
       "17   Lobug  Green         18.6\n",
       "18   Lobug  Green         18.8\n",
       "21   Lobug  Green         22.7\n",
       "22   Lobug  Green         23.7\n",
       "23   Lobug  Green         24.8\n",
       "10   Mobug  Brown         11.6\n",
       "11   Mobug  Brown         13.8\n",
       "13   Mobug  Brown         15.7\n",
       "15   Mobug  Brown         18.2\n",
       "19   Mobug  Green         19.9\n",
       "20   Mobug  Green         21.2"
      ]
     },
     "execution_count": 23,
     "metadata": {},
     "output_type": "execute_result"
    }
   ],
   "source": [
    "not_blue_dataset = dataset[~filter_blue]\n",
    "print(not_blue_dataset['Species'].value_counts())\n",
    "not_blue_dataset.sort_values('Species')"
   ]
  },
  {
   "cell_type": "code",
   "execution_count": 4,
   "metadata": {},
   "outputs": [],
   "source": [
    "def two_group_ent(first, tot):                        \n",
    "    return -(first/tot*np.log2(first/tot) +           \n",
    "             (tot-first)/tot*np.log2((tot-first)/tot))"
   ]
  },
  {
   "cell_type": "code",
   "execution_count": 5,
   "metadata": {},
   "outputs": [
    {
     "name": "stdout",
     "output_type": "stream",
     "text": [
      "0.9798687566511528\n"
     ]
    }
   ],
   "source": [
    "# for total entropy, lobug=14, Mobug=10, tot=24\n",
    "tot_ent = two_group_ent(14, 24)\n",
    "print(tot_ent)"
   ]
  },
  {
   "cell_type": "code",
   "execution_count": 6,
   "metadata": {},
   "outputs": [
    {
     "name": "stdout",
     "output_type": "stream",
     "text": [
      "0.8366407419411672\n",
      "0.9182958340544896\n"
     ]
    }
   ],
   "source": [
    "g17 = two_group_ent(11, 15)\n",
    "print(g17)\n",
    "\n",
    "l17 = two_group_ent(6, 9)\n",
    "print(l17)"
   ]
  },
  {
   "cell_type": "code",
   "execution_count": 19,
   "metadata": {},
   "outputs": [
    {
     "name": "stdout",
     "output_type": "stream",
     "text": [
      "brown_ent: 0.9182958340544896\n",
      "tot_ent - brown_ent: 0.06157292259666325\n",
      "\n",
      "blue_ent: 0.979279160376092\n",
      "tot_ent - blue_ent: 0.000589596275060833\n",
      "\n",
      "green_ent: 0.979279160376092\n",
      "tot_ent - green_ent: 0.042776048498108565\n",
      "\n",
      "len_less_than_17_ent 0.867261401483663\n",
      "tot_ent - len_less_than_17_ent: 0.11260735516748976\n",
      "\n",
      "len_less_than_20_ent 0.8791355307646356\n",
      "tot_ent - len_less_than_20_ent: 0.10073322588651723\n"
     ]
    }
   ],
   "source": [
    "# for color = brown, lobug=2, Mobug=4, brown_tot=6\n",
    "# for remaining colors, lobug=14-2=12, Mobug=10-4=6, non_brown_tot=18\n",
    "brown_ent = 18/24 * two_group_ent(12, 18) + 6/24 * two_group_ent(4, 6) \n",
    "print('brown_ent:', brown_ent)\n",
    "print('tot_ent - brown_ent:', tot_ent - brown_ent)\n",
    "print()\n",
    "\n",
    "# for color = blue, lobug=6, Mobug=4, blue_tot=10\n",
    "# for remaining colors, lobug=14-6=8, Mobug=10-4=6, non_blue_tot=14\n",
    "blue_ent = 10/24 * two_group_ent(6, 10) + 14/24 * two_group_ent(8, 14) \n",
    "print('blue_ent:', blue_ent)\n",
    "print('tot_ent - blue_ent:', tot_ent - blue_ent)\n",
    "print()\n",
    "\n",
    "# for color = green, lobug=6, Mobug=2, green_tot=8\n",
    "# for remaining colors, lobug=14-6=8, Mobug=10-2=8, non_green_tot=16\n",
    "green_ent = 8/24 * two_group_ent(6, 8) + 16/24 * two_group_ent(8, 16) \n",
    "print('green_ent:', blue_ent)\n",
    "print('tot_ent - green_ent:', tot_ent - green_ent)\n",
    "print()\n",
    "\n",
    "# for len < 17, lobug=3, Mobug=6, g17_tot=9\n",
    "# for remaining, lobug=14-3=11, Mobug=10-6=4, non_g17_tot=15\n",
    "len_less_than_17_ent = ((15/24) * two_group_ent(11, 15)) + ((9/24) * two_group_ent(6, 9)) \n",
    "print('len_less_than_17_ent', len_less_than_17_ent)\n",
    "print('tot_ent - len_less_than_17_ent:', tot_ent - len_less_than_17_ent)\n",
    "print()\n",
    "\n",
    "# for len < 20, lobug=8, Mobug=9, g20_tot=17\n",
    "# for remaining, lobug=14-8=6, Mobug=10-9=1, non_g20_tot=7\n",
    "len_less_than_20_ent = ((17/24) * g17) + ((9/24) * l17) \n",
    "len_less_than_20_ent = ((17/24) * two_group_ent(9, 17)) + ((7/24) * two_group_ent(6, 7)) \n",
    "print('len_less_than_20_ent', len_less_than_20_ent)\n",
    "print('tot_ent - len_less_than_20_ent:', tot_ent - len_less_than_20_ent)               \n",
    "\n"
   ]
  },
  {
   "cell_type": "code",
   "execution_count": null,
   "metadata": {},
   "outputs": [],
   "source": [
    "#Conclusion Highest Information gain is with len_less_than_17_ent"
   ]
  }
 ],
 "metadata": {
  "kernelspec": {
   "display_name": "Python 3",
   "language": "python",
   "name": "python3"
  },
  "language_info": {
   "codemirror_mode": {
    "name": "ipython",
    "version": 3
   },
   "file_extension": ".py",
   "mimetype": "text/x-python",
   "name": "python",
   "nbconvert_exporter": "python",
   "pygments_lexer": "ipython3",
   "version": "3.7.3"
  }
 },
 "nbformat": 4,
 "nbformat_minor": 2
}
